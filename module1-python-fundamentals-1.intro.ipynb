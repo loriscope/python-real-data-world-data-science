{
 "cells": [
  {
   "cell_type": "markdown",
   "metadata": {},
   "source": [
    "# A. From cmd prompt\n",
    "### 1. Launch Python\n",
    "###### python\n",
    "###### python notebook\n",
    "### 2. Display installed packages\n",
    "###### pip(3) freeze\n",
    "### 3. Install packages\n",
    "###### pip install SomePackage\n",
    "###### pip install SomePackage --upgrade\n",
    "### 4. Run a program\n",
    "###### python SomeProgram.py\n",
    "\n",
    "# B. Notes"
   ]
  },
  {
   "cell_type": "code",
   "execution_count": 21,
   "metadata": {},
   "outputs": [],
   "source": [
    "# Importing a function from a libary\n",
    "from math import factorial\n",
    "factorial(5)\n",
    "# factorial(5) = 5! = 5 * 4 * 3 * 2 * 1 = 120"
   ]
  },
  {
   "cell_type": "code",
   "execution_count": 25,
   "metadata": {},
   "outputs": [],
   "source": [
    "# Python's culture and being Pythonic\n",
    "# The Zen of Python, by Tim Peters\n",
    "import this"
   ]
  }
 ],
 "metadata": {
  "kernelspec": {
   "display_name": "Python 3",
   "language": "python",
   "name": "python3"
  },
  "language_info": {
   "codemirror_mode": {
    "name": "ipython",
    "version": 3
   },
   "file_extension": ".py",
   "mimetype": "text/x-python",
   "name": "python",
   "nbconvert_exporter": "python",
   "pygments_lexer": "ipython3",
   "version": "3.6.4"
  }
 },
 "nbformat": 4,
 "nbformat_minor": 2
}
